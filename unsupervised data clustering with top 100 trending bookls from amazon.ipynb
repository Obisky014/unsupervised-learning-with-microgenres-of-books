{
 "cells": [
  {
   "cell_type": "code",
   "execution_count": 1,
   "id": "331bb8bb-cfd2-48fc-9c18-2d8017b79cd2",
   "metadata": {},
   "outputs": [],
   "source": [
    "# import necessary libraries for unsupervised learning\n",
    "import pandas as pd\n",
    "import numpy as np\n",
    "import matplotlib.pyplot as plt\n",
    "import matplotlib.cm as cm\n",
    "from sklearn.feature_extraction.text import TfidfVectorizer\n",
    "from sklearn.cluster import KMeans\n",
    "from sklearn.decomposition import PCA"
   ]
  },
  {
   "cell_type": "code",
   "execution_count": 2,
   "id": "e053f8b7-34ff-4a87-a96e-26fa9271dc28",
   "metadata": {},
   "outputs": [
    {
     "data": {
      "text/html": [
       "<div>\n",
       "<style scoped>\n",
       "    .dataframe tbody tr th:only-of-type {\n",
       "        vertical-align: middle;\n",
       "    }\n",
       "\n",
       "    .dataframe tbody tr th {\n",
       "        vertical-align: top;\n",
       "    }\n",
       "\n",
       "    .dataframe thead th {\n",
       "        text-align: right;\n",
       "    }\n",
       "</style>\n",
       "<table border=\"1\" class=\"dataframe\">\n",
       "  <thead>\n",
       "    <tr style=\"text-align: right;\">\n",
       "      <th></th>\n",
       "      <th>Rank</th>\n",
       "      <th>book title</th>\n",
       "      <th>book price</th>\n",
       "      <th>rating</th>\n",
       "      <th>author</th>\n",
       "      <th>year of publication</th>\n",
       "      <th>genre</th>\n",
       "      <th>url</th>\n",
       "    </tr>\n",
       "  </thead>\n",
       "  <tbody>\n",
       "    <tr>\n",
       "      <th>0</th>\n",
       "      <td>1</td>\n",
       "      <td>Iron Flame (The Empyrean, 2)</td>\n",
       "      <td>18.42</td>\n",
       "      <td>4.1</td>\n",
       "      <td>Rebecca Yarros</td>\n",
       "      <td>2023</td>\n",
       "      <td>Fantasy Romance</td>\n",
       "      <td>amazon.com/Iron-Flame-Empyrean-Rebecca-Yarros/...</td>\n",
       "    </tr>\n",
       "    <tr>\n",
       "      <th>1</th>\n",
       "      <td>2</td>\n",
       "      <td>The Woman in Me</td>\n",
       "      <td>20.93</td>\n",
       "      <td>4.5</td>\n",
       "      <td>Britney Spears</td>\n",
       "      <td>2023</td>\n",
       "      <td>Memoir</td>\n",
       "      <td>amazon.com/Woman-Me-Britney-Spears/dp/16680090...</td>\n",
       "    </tr>\n",
       "    <tr>\n",
       "      <th>2</th>\n",
       "      <td>3</td>\n",
       "      <td>My Name Is Barbra</td>\n",
       "      <td>31.50</td>\n",
       "      <td>4.5</td>\n",
       "      <td>Barbra Streisand</td>\n",
       "      <td>2023</td>\n",
       "      <td>Autobiography</td>\n",
       "      <td>amazon.com/My-Name-Barbra-Streisand/dp/0525429...</td>\n",
       "    </tr>\n",
       "    <tr>\n",
       "      <th>3</th>\n",
       "      <td>4</td>\n",
       "      <td>Friends, Lovers, and the Big Terrible Thing: A...</td>\n",
       "      <td>23.99</td>\n",
       "      <td>4.4</td>\n",
       "      <td>Matthew Perry</td>\n",
       "      <td>2023</td>\n",
       "      <td>Memoir</td>\n",
       "      <td>amazon.com/Friends-Lovers-Big-Terrible-Thing/d...</td>\n",
       "    </tr>\n",
       "    <tr>\n",
       "      <th>4</th>\n",
       "      <td>5</td>\n",
       "      <td>How to Catch a Turkey</td>\n",
       "      <td>5.65</td>\n",
       "      <td>4.8</td>\n",
       "      <td>Adam Wallace</td>\n",
       "      <td>2018</td>\n",
       "      <td>Childrens, Fiction</td>\n",
       "      <td>amazon.com/How-Catch-Turkey-Adam-Wallace/dp/14...</td>\n",
       "    </tr>\n",
       "  </tbody>\n",
       "</table>\n",
       "</div>"
      ],
      "text/plain": [
       "   Rank                                         book title  book price  \\\n",
       "0     1                       Iron Flame (The Empyrean, 2)       18.42   \n",
       "1     2                                    The Woman in Me       20.93   \n",
       "2     3                                  My Name Is Barbra       31.50   \n",
       "3     4  Friends, Lovers, and the Big Terrible Thing: A...       23.99   \n",
       "4     5                              How to Catch a Turkey        5.65   \n",
       "\n",
       "   rating            author  year of publication               genre  \\\n",
       "0     4.1    Rebecca Yarros                 2023     Fantasy Romance   \n",
       "1     4.5    Britney Spears                 2023              Memoir   \n",
       "2     4.5  Barbra Streisand                 2023       Autobiography   \n",
       "3     4.4     Matthew Perry                 2023              Memoir   \n",
       "4     4.8      Adam Wallace                 2018  Childrens, Fiction   \n",
       "\n",
       "                                                 url  \n",
       "0  amazon.com/Iron-Flame-Empyrean-Rebecca-Yarros/...  \n",
       "1  amazon.com/Woman-Me-Britney-Spears/dp/16680090...  \n",
       "2  amazon.com/My-Name-Barbra-Streisand/dp/0525429...  \n",
       "3  amazon.com/Friends-Lovers-Big-Terrible-Thing/d...  \n",
       "4  amazon.com/How-Catch-Turkey-Adam-Wallace/dp/14...  "
      ]
     },
     "execution_count": 2,
     "metadata": {},
     "output_type": "execute_result"
    }
   ],
   "source": [
    "# load the csv file and view the entries/rows at the top\n",
    "df = pd.read_csv(\"Top-100 Trending Books.csv\")\n",
    "df.head()"
   ]
  },
  {
   "cell_type": "code",
   "execution_count": 3,
   "id": "695a347e-0267-48a6-8432-0ba562603f0d",
   "metadata": {},
   "outputs": [
    {
     "name": "stdout",
     "output_type": "stream",
     "text": [
      "<class 'pandas.core.frame.DataFrame'>\n",
      "RangeIndex: 100 entries, 0 to 99\n",
      "Data columns (total 8 columns):\n",
      " #   Column               Non-Null Count  Dtype  \n",
      "---  ------               --------------  -----  \n",
      " 0   Rank                 100 non-null    int64  \n",
      " 1   book title           100 non-null    object \n",
      " 2   book price           100 non-null    float64\n",
      " 3   rating               97 non-null     float64\n",
      " 4   author               100 non-null    object \n",
      " 5   year of publication  100 non-null    int64  \n",
      " 6   genre                100 non-null    object \n",
      " 7   url                  100 non-null    object \n",
      "dtypes: float64(2), int64(2), object(4)\n",
      "memory usage: 6.4+ KB\n"
     ]
    }
   ],
   "source": [
    "# information overview of the dataset\n",
    "df.info()"
   ]
  },
  {
   "cell_type": "code",
   "execution_count": 4,
   "id": "8886624a-786d-4043-9910-269b75285826",
   "metadata": {},
   "outputs": [
    {
     "data": {
      "text/plain": [
       "Rank                   False\n",
       "book title             False\n",
       "book price             False\n",
       "rating                  True\n",
       "author                 False\n",
       "year of publication    False\n",
       "genre                  False\n",
       "url                    False\n",
       "dtype: bool"
      ]
     },
     "execution_count": 4,
     "metadata": {},
     "output_type": "execute_result"
    }
   ],
   "source": [
    "# take a look at the missing entries\n",
    "missing = df.isna().any()\n",
    "missing"
   ]
  },
  {
   "cell_type": "code",
   "execution_count": 5,
   "id": "999b0049-dd20-4166-81f5-3f85971a70be",
   "metadata": {},
   "outputs": [
    {
     "data": {
      "text/plain": [
       "Rank                   0\n",
       "book title             0\n",
       "book price             0\n",
       "rating                 3\n",
       "author                 0\n",
       "year of publication    0\n",
       "genre                  0\n",
       "url                    0\n",
       "dtype: int64"
      ]
     },
     "execution_count": 5,
     "metadata": {},
     "output_type": "execute_result"
    }
   ],
   "source": [
    "# another syntax of looking at missing entries\n",
    "alternative_missing = df.isnull().sum()\n",
    "alternative_missing"
   ]
  },
  {
   "cell_type": "code",
   "execution_count": 6,
   "id": "354de45d-7306-4934-a20a-2347e8227654",
   "metadata": {},
   "outputs": [
    {
     "name": "stdout",
     "output_type": "stream",
     "text": [
      "0     4.1\n",
      "1     4.5\n",
      "2     4.5\n",
      "3     4.4\n",
      "4     4.8\n",
      "     ... \n",
      "95    4.7\n",
      "96    4.7\n",
      "97    4.5\n",
      "98    4.6\n",
      "99    4.8\n",
      "Name: rating, Length: 100, dtype: float64\n"
     ]
    }
   ],
   "source": [
    "# printing the column that has the missing rows for context\n",
    "rating = df['rating']\n",
    "print(rating)"
   ]
  },
  {
   "cell_type": "code",
   "execution_count": 7,
   "id": "df4c2654-f6f4-4b2c-a76d-6f6d45e7555d",
   "metadata": {},
   "outputs": [
    {
     "name": "stdout",
     "output_type": "stream",
     "text": [
      "    Rank                                         book title  book price  \\\n",
      "24    25       House of Flame and Shadow (Crescent City, 3)       18.48   \n",
      "45    46  How to Be the Love You Seek: Break Cycles, Fin...       20.11   \n",
      "85    86                                   Love Comes First       17.99   \n",
      "\n",
      "    rating         author  year of publication  \\\n",
      "24     NaN  Sarah J. Maas                 2023   \n",
      "45     NaN  Nicole LePera                 2023   \n",
      "85     NaN   Emily Giffin                 2016   \n",
      "\n",
      "                                                genre  \\\n",
      "24  Fantasy, Dragons, Young Adult, Fiction, High F...   \n",
      "45  Self Help, Nonfiction, Mental Health, Psycholo...   \n",
      "85  Fiction, Romance, Contemporary, Audiobook, Adu...   \n",
      "\n",
      "                                                  url  \n",
      "24  amazon.com/House-Flame-Shadow-Crescent-City/dp...  \n",
      "45  amazon.com/How-Love-You-Seek-Relationships/dp/...  \n",
      "85  amazon.com/Love-Comes-First-Jenna-Hager/dp/031...  \n"
     ]
    }
   ],
   "source": [
    "# locating the missing entries in the rating column\n",
    "missing_rating = df[df['rating'].isna()] \n",
    "print(missing_rating)"
   ]
  },
  {
   "cell_type": "code",
   "execution_count": 8,
   "id": "82870a5a-3228-4e11-b2b9-91e9673cf894",
   "metadata": {},
   "outputs": [
    {
     "name": "stdout",
     "output_type": "stream",
     "text": [
      "Rank                                                                  24\n",
      "book title                                                 A Little Life\n",
      "book price                                                         11.83\n",
      "rating                                                               4.5\n",
      "author                                                  Hanya Yanagihara\n",
      "year of publication                                                 2015\n",
      "genre                  Fiction, Contemporary, LGBT, Literary Fiction,...\n",
      "url                    amazon.com/Little-Life-Hanya-Yanagihara/dp/080...\n",
      "Name: 23, dtype: object Rank                                                                  45\n",
      "book title                   I Am Thankful: A Thanksgiving Book for Kids\n",
      "book price                                                          7.99\n",
      "rating                                                               4.7\n",
      "author                                                        Sheri Wall\n",
      "year of publication                                                 2020\n",
      "genre                                           Picture Books, Childrens\n",
      "url                    amazon.com/Am-Thankful-Thanksgiving-Book-Kids/...\n",
      "Name: 44, dtype: object Rank                                                                  85\n",
      "book title             Paint by Sticker Kids: Christmas: Create 10 Pi...\n",
      "book price                                                          6.06\n",
      "rating                                                               4.8\n",
      "author                                                Workman Publishing\n",
      "year of publication                                                 2019\n",
      "genre                                               Childrens Literature\n",
      "url                    amazon.com/Paint-Sticker-Kids-Workman-Publishi...\n",
      "Name: 84, dtype: object\n"
     ]
    }
   ],
   "source": [
    "# random look about to see if i can use forward fill to clean the NaN data\n",
    "print(df.iloc[23], df.iloc[44], df.iloc[84])"
   ]
  },
  {
   "cell_type": "code",
   "execution_count": 9,
   "id": "face00c6-c204-424b-b91b-4ff6aa15eab8",
   "metadata": {},
   "outputs": [
    {
     "name": "stdout",
     "output_type": "stream",
     "text": [
      "Rank                                                                  25\n",
      "book title                  House of Flame and Shadow (Crescent City, 3)\n",
      "book price                                                         18.48\n",
      "rating                                                               4.7\n",
      "author                                                     Sarah J. Maas\n",
      "year of publication                                                 2023\n",
      "genre                  Fantasy, Dragons, Young Adult, Fiction, High F...\n",
      "url                    amazon.com/House-Flame-Shadow-Crescent-City/dp...\n",
      "Name: 24, dtype: object Rank                                                                  46\n",
      "book title             How to Be the Love You Seek: Break Cycles, Fin...\n",
      "book price                                                         20.11\n",
      "rating                                                               4.7\n",
      "author                                                     Nicole LePera\n",
      "year of publication                                                 2023\n",
      "genre                  Self Help, Nonfiction, Mental Health, Psycholo...\n",
      "url                    amazon.com/How-Love-You-Seek-Relationships/dp/...\n",
      "Name: 45, dtype: object Rank                                                                  86\n",
      "book title                                              Love Comes First\n",
      "book price                                                         17.99\n",
      "rating                                                               4.7\n",
      "author                                                      Emily Giffin\n",
      "year of publication                                                 2016\n",
      "genre                  Fiction, Romance, Contemporary, Audiobook, Adu...\n",
      "url                    amazon.com/Love-Comes-First-Jenna-Hager/dp/031...\n",
      "Name: 85, dtype: object\n"
     ]
    }
   ],
   "source": [
    "# hmm i don't think forward fill would be ideal...a quick look through df.info() shows it's not progressive as we go downwards. \n",
    "# so mean would probably work best\n",
    "# approximating to 1 decimal place to keep in line with the other entries\n",
    "df['rating'].fillna(round(df['rating'].mean(), 1), inplace=True)\n",
    "print(df.iloc[24], df.iloc[45], df.iloc[85])"
   ]
  },
  {
   "cell_type": "code",
   "execution_count": 10,
   "id": "71fe8ca6-629f-4af8-a01b-d9459ee0561b",
   "metadata": {},
   "outputs": [],
   "source": [
    "# data cleaned...TF-IDF vectorization would be next, but we have no description column. genres could be used but it's quite limited.\n",
    "# let's add descriptions\n",
    "import requests\n",
    "import time\n",
    "\n",
    "def fetch_description(title, author):\n",
    "    query = f\"{title} {author}\"\n",
    "    url = f\"https://openlibrary.org/search.json?q={requests.utils.quote(query)}\"\n",
    "    try:\n",
    "        response = requests.get(url)\n",
    "        data = response.json()\n",
    "        if 'docs' in data and len(data['docs']) > 0:\n",
    "            work_key = data['docs'][0].get('key')\n",
    "            if work_key:\n",
    "                work_url = f\"https://openlibrary.org{work_key}.json\"\n",
    "                work_response = requests.get(work_url).json()\n",
    "                return work_response.get('description', '')\n",
    "    except Exception as e:\n",
    "        print(f\"Error fetching {title}: {e}\")\n",
    "    return ''\n",
    "\n",
    "# Example usage on a dataframe\n",
    "df['description'] = df.apply(lambda row: fetch_description(row['book title'], row['author']), axis=1)\n"
   ]
  },
  {
   "cell_type": "code",
   "execution_count": 11,
   "id": "453f3a83-7659-4cc4-8d44-7054a8ada354",
   "metadata": {},
   "outputs": [
    {
     "name": "stdout",
     "output_type": "stream",
     "text": [
      "0                                                      \n",
      "1     {'type': '/type/text', 'value': 'The Woman in ...\n",
      "2                                                      \n",
      "3                                                      \n",
      "4                                                      \n",
      "                            ...                        \n",
      "95                                                     \n",
      "96                                                     \n",
      "97    {'type': '/type/text', 'value': 'a true tale o...\n",
      "98                                                     \n",
      "99    While walking down the road, the narrator sees...\n",
      "Name: description, Length: 100, dtype: object\n"
     ]
    }
   ],
   "source": [
    "description = df['description']\n",
    "print(description)"
   ]
  },
  {
   "cell_type": "code",
   "execution_count": 12,
   "id": "fbb8e8fb-d0cf-45ee-9fed-a841b4214a3f",
   "metadata": {},
   "outputs": [
    {
     "name": "stdout",
     "output_type": "stream",
     "text": [
      "(100, 478)\n"
     ]
    }
   ],
   "source": [
    "# even with the addition of a description column via an external source, it is not very clean as there are some missing entries.so i will combine existing features\n",
    "df['text_features'] = df['book title'] + \" \" + df['genre']\n",
    "# Apply TF-IDF\n",
    "vectorizer = TfidfVectorizer(stop_words='english', max_features=1000)\n",
    "tfidf_matrix = vectorizer.fit_transform(df['text_features'])\n",
    "\n",
    "print(tfidf_matrix.shape)  # Checking matrix size"
   ]
  },
  {
   "cell_type": "code",
   "execution_count": 13,
   "id": "117e9d28-2a77-45f1-9cfc-64a85950618d",
   "metadata": {},
   "outputs": [],
   "source": [
    "# KMeans Clustering\n",
    "num_clusters = 10 # you could easily as well fit 10 as the argument for the n_clusters under KMeans...\n",
    "kmeans = KMeans(10, random_state=42)\n",
    "kmeans.fit(tfidf_matrix)\n",
    "df['cluster'] = kmeans.labels_"
   ]
  },
  {
   "cell_type": "code",
   "execution_count": 14,
   "id": "6c60353e-20cb-466e-825b-20be711699e5",
   "metadata": {},
   "outputs": [],
   "source": [
    "# reducing dimensions to 2D using PCA\n",
    "pca = PCA(n_components=2, random_state=42)\n",
    "tfidf_matrix_reduced = pca.fit_transform(tfidf_matrix.toarray())"
   ]
  },
  {
   "cell_type": "code",
   "execution_count": 15,
   "id": "bc6eb901-a81b-42ee-9873-85c0baffd90b",
   "metadata": {},
   "outputs": [
    {
     "name": "stdout",
     "output_type": "stream",
     "text": [
      "\n",
      "Cluster 0\n",
      "                                                genre  \\\n",
      "16                        Fiction, Historical Fiction   \n",
      "37                  Picture Books, Childrens, Holiday   \n",
      "88                                          Self Help   \n",
      "38  Finance, Nonfiction, Psychology, Business, Sel...   \n",
      "57                              Self Help, Psychology   \n",
      "\n",
      "                                        text_features  \n",
      "16  Lessons in Chemistry: A Novel Fiction, Histori...  \n",
      "37  The Psychology of Money: Timeless lessons on w...  \n",
      "88  The Shadow Work Journal 2nd Edition: a Guide t...  \n",
      "38  The Seven Husbands of Evelyn Hugo: A Novel Fin...  \n",
      "57  The Shadow Work Journal: A Guide to Integrate ...  \n",
      "\n",
      "Cluster 1\n",
      "                       genre  \\\n",
      "55         Fiction, Alphabet   \n",
      "73                 Childrens   \n",
      "18  Picture Books, Biography   \n",
      "94                 Childrens   \n",
      "31              Picture Book   \n",
      "\n",
      "                                        text_features  \n",
      "55  Chicka Chicka Boom Boom (Board Book) Fiction, ...  \n",
      "73  My First Library : Boxset of 10 Board Books fo...  \n",
      "18  Taylor Swift: A Little Golden Book Biography P...  \n",
      "94        Paw Patrol Phonics: 12 Books in 1 Childrens  \n",
      "31  The Four Agreements: A Practical Guide to Pers...  \n",
      "\n",
      "Cluster 2\n",
      "                                                genre  \\\n",
      "46                                   Fantasy, Romance   \n",
      "87                                            Fantasy   \n",
      "22  Fantasy, Romance, Young Adult, Fiction, New Ad...   \n",
      "71  Fantasy, Romance, Young Adult, New Adult, Fiction   \n",
      "\n",
      "                                        text_features  \n",
      "46  A Court of Thorns and Roses Paperback Box Set ...  \n",
      "87  A Court of Wings and Ruin (A Court of Thorns a...  \n",
      "22  A Court of Thorns and Roses (A Court of Thorns...  \n",
      "71  A Court of Mist and Fury (A Court of Thorns an...  \n",
      "\n",
      "Cluster 3\n",
      "                                                genre  \\\n",
      "86  Adventure, War, Science Fiction, Romance, Acti...   \n",
      "76                                            Fiction   \n",
      "9                                  Historical Fiction   \n",
      "70                Thriller, Romance, Mystery, Fiction   \n",
      "64                                   Fiction, Mystery   \n",
      "\n",
      "                                        text_features  \n",
      "86  The Ballad of Songbirds and Snakes (A Hunger G...  \n",
      "76  Demon Copperhead: A Pulitzer Prize Winner Fiction  \n",
      "9   All the Light We Cannot See: A Novel Historica...  \n",
      "70         Verity Thriller, Romance, Mystery, Fiction  \n",
      "64  The Covenant of Water (Oprah's Book Club) Fict...  \n",
      "\n",
      "Cluster 4\n",
      "                                                genre  \\\n",
      "93                      Fantasy, Adventure, Mythology   \n",
      "5                                             Fantasy   \n",
      "79  Childrens, Young Adult, Fantasy, Science Ficti...   \n",
      "0                                     Fantasy Romance   \n",
      "96   young adult novel, adventure novel, survival ...   \n",
      "\n",
      "                                        text_features  \n",
      "93  Percy Jackson and the Olympians: The Chalice o...  \n",
      "5               Fourth Wing (The Empyrean, 1) Fantasy  \n",
      "79  Harry Potter Paperback Box Set (Books 1-7) Chi...  \n",
      "0        Iron Flame (The Empyrean, 2) Fantasy Romance  \n",
      "96  Hatchet  young adult novel, adventure novel, s...  \n",
      "\n",
      "Cluster 5\n",
      "                                                genre  \\\n",
      "2                                       Autobiography   \n",
      "7                                 Humor, Middle Grade   \n",
      "48          Picture Books, Childrens, Fiction, Poetry   \n",
      "19  Picture Books, Christmas, Holiday, Humor, Chil...   \n",
      "15  Spiritual Warfare, Biblical Studies - Prophecy...   \n",
      "\n",
      "                                        text_features  \n",
      "2                     My Name Is Barbra Autobiography  \n",
      "7   No Brainer (Diary of a Wimpy Kid Book 18) Humo...  \n",
      "48  The Wonderful Things You Will Be Picture Books...  \n",
      "19  Don't Let the Pigeon Drive the Sleigh! Picture...  \n",
      "15  The Great Disappearance: 31 Ways to be Rapture...  \n",
      "\n",
      "Cluster 6\n",
      "                                 genre  \\\n",
      "75                           Childrens   \n",
      "30               Childrens, literature   \n",
      "53     Educational Material, Childrens   \n",
      "4                   Childrens, Fiction   \n",
      "90  Childrens literature, picture book   \n",
      "\n",
      "                                        text_features  \n",
      "75                            Where's Spot? Childrens  \n",
      "30  Balloons over Broadway: The True Story of the ...  \n",
      "53  Flash Cards: Sight Words Educational Material,...  \n",
      "4            How to Catch a Turkey Childrens, Fiction  \n",
      "90  Moo, Baa, La La La! Childrens literature, pict...  \n",
      "\n",
      "Cluster 7\n",
      "                                       genre  \\\n",
      "6                       Nonfiction, Politics   \n",
      "8                     Nonfiction, True Crime   \n",
      "41        History, Nonfiction, Politics, War   \n",
      "32  Spirituality, self-help, personal growth   \n",
      "14                                Nonfiction   \n",
      "\n",
      "                                        text_features  \n",
      "6   Unwoke: How to Defeat Cultural Marxism in Amer...  \n",
      "8   Killers of the Flower Moon: The Osage Murders ...  \n",
      "41  Hundred Years' War on Palestine History, Nonfi...  \n",
      "32  The Housemaid Spirituality, self-help, persona...  \n",
      "14                    The 48 Laws of Power Nonfiction  \n",
      "\n",
      "Cluster 8\n",
      "     genre                                      text_features\n",
      "1   Memoir                             The Woman in Me Memoir\n",
      "3   Memoir  Friends, Lovers, and the Big Terrible Thing: A...\n",
      "11  Memoir                               Night (Night) Memoir\n",
      "\n",
      "Cluster 9\n",
      "                                                genre  \\\n",
      "52  Christmas, Romance, Holiday, Contemporary Roma...   \n",
      "85  Fiction, Romance, Contemporary, Audiobook, Adu...   \n",
      "23  Fiction, Contemporary, LGBT, Literary Fiction,...   \n",
      "82  Romance, Contemporary, Contemporary Romance, F...   \n",
      "\n",
      "                                        text_features  \n",
      "52  The Christmas Fix Christmas, Romance, Holiday,...  \n",
      "85  Love Comes First Fiction, Romance, Contemporar...  \n",
      "23  A Little Life Fiction, Contemporary, LGBT, Lit...  \n",
      "82  Things We Never Got Over (Knockemout) Romance,...  \n"
     ]
    }
   ],
   "source": [
    "# a quick look around of the clusters (the unlabeled microgenres)\n",
    "for cluster_num in range(num_clusters):\n",
    "    print(f\"\\nCluster {cluster_num}\")\n",
    "    cluster_data = df[df['cluster'] == cluster_num]\n",
    "    \n",
    "    # Check if the cluster has at least 5 rows, otherwise sample all rows\n",
    "    sample_size = min(5, len(cluster_data))\n",
    "    \n",
    "    if sample_size > 0:  # Make sure the cluster is not empty\n",
    "        sample = cluster_data.sample(sample_size, random_state=42)\n",
    "        print(sample[['genre', 'text_features']])\n",
    "    "
   ]
  },
  {
   "cell_type": "code",
   "execution_count": 16,
   "id": "4c76c92a-904f-44db-882c-deeed6d64bb1",
   "metadata": {},
   "outputs": [],
   "source": [
    "# Build dictionary mapping cluster number → dominant microgenre\n",
    "cluster_to_microgenre = {}\n",
    "for cluster_num in range(num_clusters):\n",
    "    dominant = df[df['cluster'] == cluster_num]['genre'].value_counts().idxmax()\n",
    "    cluster_to_microgenre[cluster_num] = dominant"
   ]
  },
  {
   "cell_type": "code",
   "execution_count": 17,
   "id": "d3ba1629-9380-4360-aec9-18a47330e48b",
   "metadata": {},
   "outputs": [
    {
     "name": "stdout",
     "output_type": "stream",
     "text": [
      "Top words for PCA Component 1:\n",
      "['childrens' 'books' 'picture' 'animals' 'holiday' 'storytime' 'humor'\n",
      " 'catch' 'turkey' 'fiction' 'christmas' 'book' 'kids' 'just' 'poetry']\n",
      "\n",
      "Top words for PCA Component 2:\n",
      "['fantasy' 'adult' 'fiction' 'court' 'romance' 'thorns' 'roses'\n",
      " 'contemporary' 'young' 'box' 'paperback' 'set' 'thriller' 'new' 'mystery']\n"
     ]
    }
   ],
   "source": [
    "component_1 = pca.components_[0]\n",
    "component_2 = pca.components_[1]\n",
    "# Get feature names (i.e., words)\n",
    "words = vectorizer.get_feature_names_out()\n",
    "# Top 15 influential words for each component\n",
    "top_indices_1 = np.argsort(component_1)[-15:]\n",
    "top_indices_2 = np.argsort(component_2)[-15:]\n",
    "print(\"Top words for PCA Component 1:\")\n",
    "print(words[top_indices_1][::-1])\n",
    "print(\"\\nTop words for PCA Component 2:\")\n",
    "print(words[top_indices_2][::-1])"
   ]
  },
  {
   "cell_type": "code",
   "execution_count": 18,
   "id": "60c872a7-1fc9-46a0-9d6f-28815c86a036",
   "metadata": {},
   "outputs": [],
   "source": [
    "# Create mapping from cluster number to most frequent genre in that cluster\n",
    "cluster_to_genre = {}\n",
    "\n",
    "for cluster_num in range(num_clusters):\n",
    "    cluster_genres = df[df['cluster'] == cluster_num]['genre']\n",
    "    most_common_genre = cluster_genres.mode()[0] if not cluster_genres.mode().empty else \"Unknown\"\n",
    "    cluster_to_genre[cluster_num] = most_common_genre"
   ]
  },
  {
   "cell_type": "code",
   "execution_count": 93,
   "id": "45f68410-eddb-49f8-b83d-99bdc0576de8",
   "metadata": {},
   "outputs": [
    {
     "data": {
      "image/png": "[encoded data removed]",
      "text/plain": [
       "<Figure size 1700x1200 with 1 Axes>"
      ]
     },
     "metadata": {},
     "output_type": "display_data"
    }
   ],
   "source": [
    "colormap = plt.get_cmap('tab20', num_clusters)\n",
    "colors = [colormap(i) for i in range(num_clusters)]\n",
    "plt.figure(figsize=(17, 12))\n",
    "\n",
    "for cluster_num in range(num_clusters):\n",
    "    cluster_points = tfidf_matrix_reduced[df['cluster'] == cluster_num]\n",
    "    plt.scatter(cluster_points[:, 0], cluster_points[:, 1], color=colors[cluster_num], label=cluster_to_genre[cluster_num], alpha=0.9)\n",
    "\n",
    "plt.title('Book Genre Clusters with 2D PCA')\n",
    "plt.xlabel('PCA Component 1')\n",
    "plt.ylabel('PCA Component 2')\n",
    "\n",
    "\n",
    "plt.annotate('Popular / Romantic →', xy=(0.42, 0), xytext=(0.63, 0.18), fontsize=11, color='blue')\n",
    "plt.annotate('← Serious / Thought-Provoking', xy=(-0.5, 0), xytext=(-1.0, 0.2), fontsize=11, color='red')\n",
    "plt.annotate('↑ Literary / Award-Winning', xy=(0, 0.5), xytext=(0.05, 0.75), fontsize=11, color='purple')\n",
    "plt.annotate('↓ Genre Fiction / Mass Appeal', xy=(0, -0.5), xytext=(0, -1.0), fontsize=11, color='green')\n",
    "\n",
    "\n",
    "plt.legend(title='Predicted Genre', bbox_to_anchor=(0.5, -0.08), loc='upper center', borderaxespad=0., ncol=num_clusters // 2 if num_clusters > 2 else 2)\n",
    "\n",
    "plt.tight_layout(rect=[0.08, 0.12, 0.92, 0.95])\n",
    "plt.subplots_adjust(bottom=0.22)\n",
    "plt.grid(True)\n",
    "plt.show()\n"
   ]
  },
  {
   "cell_type": "code",
   "execution_count": null,
   "id": "d90182d3-13e9-46f3-9b61-cbbc610e1996",
   "metadata": {},
   "outputs": [],
   "source": []
  }
 ],
 "metadata": {
  "kernelspec": {
   "display_name": "Python 3 (ipykernel)",
   "language": "python",
   "name": "python3"
  },
  "language_info": {
   "codemirror_mode": {
    "name": "ipython",
    "version": 3
   },
   "file_extension": ".py",
   "mimetype": "text/x-python",
   "name": "python",
   "nbconvert_exporter": "python",
   "pygments_lexer": "ipython3",
   "version": "3.12.7"
  }
 },
 "nbformat": 4,
 "nbformat_minor": 5
}
