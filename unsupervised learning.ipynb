{
 "cells": [
  {
   "cell_type": "code",
   "execution_count": 2,
   "id": "2d7201c1-4364-4b31-b339-16b53f614230",
   "metadata": {},
   "outputs": [
    {
     "data": {
      "text/html": [
       "<div>\n",
       "<style scoped>\n",
       "    .dataframe tbody tr th:only-of-type {\n",
       "        vertical-align: middle;\n",
       "    }\n",
       "\n",
       "    .dataframe tbody tr th {\n",
       "        vertical-align: top;\n",
       "    }\n",
       "\n",
       "    .dataframe thead th {\n",
       "        text-align: right;\n",
       "    }\n",
       "</style>\n",
       "<table border=\"1\" class=\"dataframe\">\n",
       "  <thead>\n",
       "    <tr style=\"text-align: right;\">\n",
       "      <th></th>\n",
       "      <th>title</th>\n",
       "      <th>author</th>\n",
       "      <th>description</th>\n",
       "    </tr>\n",
       "  </thead>\n",
       "  <tbody>\n",
       "    <tr>\n",
       "      <th>0</th>\n",
       "      <td>The Broken Garden</td>\n",
       "      <td>Silas Heart</td>\n",
       "      <td>In a bustling city, Juno Fen finds unexpected ...</td>\n",
       "    </tr>\n",
       "    <tr>\n",
       "      <th>1</th>\n",
       "      <td>The Fading Dream</td>\n",
       "      <td>Omar Heart</td>\n",
       "      <td>Samir Marrow embarks on a journey through time...</td>\n",
       "    </tr>\n",
       "    <tr>\n",
       "      <th>2</th>\n",
       "      <td>The Shattered Ashes</td>\n",
       "      <td>Fenwick Sterling</td>\n",
       "      <td>Silas Heart and a rival captain find love amon...</td>\n",
       "    </tr>\n",
       "    <tr>\n",
       "      <th>3</th>\n",
       "      <td>The Dark Memory</td>\n",
       "      <td>Samir Vance</td>\n",
       "      <td>In a brutal realm, Omar Wren must survive betr...</td>\n",
       "    </tr>\n",
       "    <tr>\n",
       "      <th>4</th>\n",
       "      <td>The Dark Garden</td>\n",
       "      <td>Helen Locke</td>\n",
       "      <td>Omar Marrow embarks on a journey through time ...</td>\n",
       "    </tr>\n",
       "  </tbody>\n",
       "</table>\n",
       "</div>"
      ],
      "text/plain": [
       "                 title            author  \\\n",
       "0    The Broken Garden       Silas Heart   \n",
       "1     The Fading Dream        Omar Heart   \n",
       "2  The Shattered Ashes  Fenwick Sterling   \n",
       "3      The Dark Memory       Samir Vance   \n",
       "4      The Dark Garden       Helen Locke   \n",
       "\n",
       "                                         description  \n",
       "0  In a bustling city, Juno Fen finds unexpected ...  \n",
       "1  Samir Marrow embarks on a journey through time...  \n",
       "2  Silas Heart and a rival captain find love amon...  \n",
       "3  In a brutal realm, Omar Wren must survive betr...  \n",
       "4  Omar Marrow embarks on a journey through time ...  "
      ]
     },
     "execution_count": 2,
     "metadata": {},
     "output_type": "execute_result"
    }
   ],
   "source": [
    "import pandas as pd\n",
    "df = pd.read_csv(\"book_descriptions_unsupervised.csv\")\n",
    "df.head()"
   ]
  },
  {
   "cell_type": "code",
   "execution_count": 3,
   "id": "a6f30ff4-8a19-48e6-8442-29041a442e51",
   "metadata": {},
   "outputs": [],
   "source": [
    "from sklearn.feature_extraction.text import TfidfVectorizer\n",
    "vectorizer = TfidfVectorizer(stop_words='english', max_features=1000)\n",
    "X = vectorizer.fit_transform(df['description'])"
   ]
  },
  {
   "cell_type": "code",
   "execution_count": 7,
   "id": "95297c7f-2daf-4995-a5cd-ec1b8404d69a",
   "metadata": {},
   "outputs": [],
   "source": [
    "from sklearn.cluster import KMeans\n",
    "num_clusters = 11\n",
    "kmeans = KMeans(n_clusters=num_clusters, random_state=42)\n",
    "kmeans.fit(X)\n",
    "df['cluster'] = kmeans.labels_"
   ]
  },
  {
   "cell_type": "code",
   "execution_count": 11,
   "id": "90acf99d-bb8d-4c03-9a8e-aa2494fdf1e9",
   "metadata": {},
   "outputs": [
    {
     "name": "stdout",
     "output_type": "stream",
     "text": [
      "\n",
      "Cluster 0\n",
      "                 title                                        description\n",
      "347      The Lost Song  Amidst the rise and fall of dynasties, Lila Mo...\n",
      "25      The Lost River  Amidst the rise and fall of dynasties, Silas M...\n",
      "578  The Fading Secret  Amidst the rise and fall of dynasties, Clariss...\n",
      "76   The Shattered Sky  Amidst the rise and fall of dynasties, Fenwick...\n",
      "645    The Silent Song  Amidst the rise and fall of dynasties, Avery H...\n",
      "\n",
      "Cluster 1\n",
      "                 title                                        description\n",
      "18      The Hidden Sky  Avery Vance embarks on a journey through time ...\n",
      "685  The Fading Secret  Helen Fen embarks on a journey through time an...\n",
      "154   The Broken Dream  Juno Graves embarks on a journey through time ...\n",
      "1     The Fading Dream  Samir Marrow embarks on a journey through time...\n",
      "303  The Fading Secret  Omar Vale embarks on a journey through time an...\n",
      "\n",
      "Cluster 2\n",
      "                   title                                        description\n",
      "262     The Dark Kingdom  In a rain-soaked city, Samir Vance investigate...\n",
      "7    The Burning Kingdom  In a rain-soaked city, Omar Vance investigates...\n",
      "534    The Hidden Secret  In a rain-soaked city, Juno Marrow investigate...\n",
      "65       The Fading Song  In a rain-soaked city, Clarissa Vance investig...\n",
      "631     The Golden Ashes  In a rain-soaked city, Helen Marrow investigat...\n",
      "\n",
      "Cluster 3\n",
      "                     title                                        description\n",
      "20   The Shattered Kingdom  In a brutal realm, Marcus Marrow must survive ...\n",
      "283      The Burning Ashes  In a brutal realm, Avery Moreno must survive b...\n",
      "61         The Fading Song  In a brutal realm, Marcus Marrow must survive ...\n",
      "3          The Dark Memory  In a brutal realm, Omar Wren must survive betr...\n",
      "382        The Silent Song  In a brutal realm, Juno Marrow must survive be...\n",
      "\n",
      "Cluster 4\n",
      "                   title                                        description\n",
      "46    The Silent Kingdom  In a neon-drenched city, Omar Graves uncovers ...\n",
      "688  The Shattered Dream  In a neon-drenched city, Lila Moreno uncovers ...\n",
      "213      The Golden Song  In a neon-drenched city, Lila Heart uncovers a...\n",
      "6     The Silent Kingdom  In a neon-drenched city, Fenwick Locke uncover...\n",
      "322     The Eternal Song  In a neon-drenched city, Avery Moreno uncovers...\n",
      "\n",
      "Cluster 5\n",
      "                    title                                        description\n",
      "582      The Hidden River  The ancient tale of Silas Vale is reimagined i...\n",
      "216  The Shattered Secret  The ancient tale of Clarissa Moreno is reimagi...\n",
      "114        The Silent Sky  The ancient tale of Lila Vance is reimagined i...\n",
      "172     The Silent Garden  The ancient tale of Clarissa Vance is reimagin...\n",
      "391      The Silent Dream  The ancient tale of Avery Locke is reimagined ...\n",
      "\n",
      "Cluster 6\n",
      "                   title                                        description\n",
      "623   The Fading Kingdom  Helen Vale and a rival captain find love among...\n",
      "733      The Broken Song  Omar Locke and a rival captain find love among...\n",
      "2    The Shattered Ashes  Silas Heart and a rival captain find love amon...\n",
      "507     The Hidden River  Samir Sterling and a rival captain find love a...\n",
      "70      The Silent Blade  Avery Fen and a rival captain find love among ...\n",
      "\n",
      "Cluster 7\n",
      "                  title                                        description\n",
      "331   The Silent Garden  In a quaint village, Clarissa Wren stumbles up...\n",
      "16    The Golden Secret  In a quaint village, Marcus Vance stumbles upo...\n",
      "245      The Lost Dream  In a quaint village, Avery Heart stumbles upon...\n",
      "335      The Hidden Sky  In a quaint village, Avery Moreno stumbles upo...\n",
      "209  The Burning Secret  In a quaint village, Marcus Vale stumbles upon...\n",
      "\n",
      "Cluster 8\n",
      "                 title                                        description\n",
      "689  The Silent Secret  In a bustling city, Avery Sterling finds unexp...\n",
      "748     The Lost River  In a bustling city, Omar Vale finds unexpected...\n",
      "0    The Broken Garden  In a bustling city, Juno Fen finds unexpected ...\n",
      "538   The Broken Blade  In a bustling city, Marcus Heart finds unexpec...\n",
      "29    The Hidden Ashes  In a bustling city, Juno Marrow finds unexpect...\n",
      "\n",
      "Cluster 9\n",
      "                    title                                        description\n",
      "752     The Eternal Dream  Everyday life takes a magical turn when Fenwic...\n",
      "26     The Shattered Song  Everyday life takes a magical turn when Avery ...\n",
      "639     The Silent Memory  Everyday life takes a magical turn when Fenwic...\n",
      "254        The Dark Ashes  Everyday life takes a magical turn when Claris...\n",
      "162  The Shattered Garden  Everyday life takes a magical turn when Claris...\n",
      "\n",
      "Cluster 10\n",
      "                   title                                        description\n",
      "78   The Shattered River  After the fall of civilization, Helen Vance fi...\n",
      "696    The Burning Blade  After the fall of civilization, Marcus Vance f...\n",
      "211       The Dark Ashes  After the fall of civilization, Samir Moreno f...\n",
      "30     The Fading Memory  After the fall of civilization, Fenwick Moreno...\n",
      "301    The Broken Secret  After the fall of civilization, Fenwick Graves...\n"
     ]
    }
   ],
   "source": [
    "for cluster_num in range(num_clusters):\n",
    "    print(f\"\\nCluster {cluster_num}\")\n",
    "    sample = df[df['cluster'] == cluster_num].sample(5, random_state=42)\n",
    "    print(sample[['title', 'description']])"
   ]
  },
  {
   "cell_type": "code",
   "execution_count": 15,
   "id": "2d6e97aa-02be-4ebc-9b42-37b1a837f1ca",
   "metadata": {},
   "outputs": [],
   "source": [
    "# transforming dimensions to 2D using PCA...going to import a new set of libraries as well\n",
    "from sklearn.decomposition import PCA\n",
    "pca = PCA(n_components=2, random_state=42)\n",
    "X_reduced = pca.fit_transform(X.toarray())"
   ]
  },
  {
   "cell_type": "code",
   "execution_count": 27,
   "id": "30353910-4f9d-4840-b0d2-44f4c3462e40",
   "metadata": {},
   "outputs": [
    {
     "data": {
      "image/png": "[encoded data removed]",
      "text/plain": [
       "<Figure size 1200x700 with 2 Axes>"
      ]
     },
     "metadata": {},
     "output_type": "display_data"
    }
   ],
   "source": [
    "# plotting...\n",
    "import matplotlib.pyplot as plt\n",
    "plt.figure(figsize=(12,7))\n",
    "scatter = plt.scatter(X_reduced[:, 0], X_reduced[:, 1], c=df['cluster'], cmap='viridis', alpha=0.6)\n",
    "plt.title('Book description: clusters -- 2D PCA')\n",
    "plt.xlabel('PCA component 1')\n",
    "plt.ylabel('PCA component 2')\n",
    "plt.colorbar(scatter, label='Cluster')\n",
    "plt.show()"
   ]
  },
  {
   "cell_type": "code",
   "execution_count": null,
   "id": "014bbc73-b329-42be-8303-edbb6e6a6c0c",
   "metadata": {},
   "outputs": [],
   "source": []
  }
 ],
 "metadata": {
  "kernelspec": {
   "display_name": "Python 3 (ipykernel)",
   "language": "python",
   "name": "python3"
  },
  "language_info": {
   "codemirror_mode": {
    "name": "ipython",
    "version": 3
   },
   "file_extension": ".py",
   "mimetype": "text/x-python",
   "name": "python",
   "nbconvert_exporter": "python",
   "pygments_lexer": "ipython3",
   "version": "3.12.7"
  }
 },
 "nbformat": 4,
 "nbformat_minor": 5
}
